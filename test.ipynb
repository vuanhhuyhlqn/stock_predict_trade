{
 "cells": [
  {
   "cell_type": "code",
   "execution_count": null,
   "id": "e0547929",
   "metadata": {},
   "outputs": [
    {
     "name": "stderr",
     "output_type": "stream",
     "text": [
      "[*********************100%***********************]  1 of 1 completed"
     ]
    },
    {
     "name": "stdout",
     "output_type": "stream",
     "text": [
      "<START> Brokerage account: $10000.00\n"
     ]
    },
    {
     "name": "stderr",
     "output_type": "stream",
     "text": [
      "\n"
     ]
    },
    {
     "ename": "AttributeError",
     "evalue": "'tuple' object has no attribute 'lower'",
     "output_type": "error",
     "traceback": [
      "\u001b[1;31m---------------------------------------------------------------------------\u001b[0m",
      "\u001b[1;31mAttributeError\u001b[0m                            Traceback (most recent call last)",
      "Cell \u001b[1;32mIn[7], line 56\u001b[0m\n\u001b[0;32m     53\u001b[0m cerebro\u001b[38;5;241m.\u001b[39madddata(data)\n\u001b[0;32m     55\u001b[0m \u001b[38;5;28mprint\u001b[39m(\u001b[38;5;124m'\u001b[39m\u001b[38;5;124m<START> Brokerage account: $\u001b[39m\u001b[38;5;132;01m%.2f\u001b[39;00m\u001b[38;5;124m'\u001b[39m \u001b[38;5;241m%\u001b[39m cerebro\u001b[38;5;241m.\u001b[39mbroker\u001b[38;5;241m.\u001b[39mgetvalue())\n\u001b[1;32m---> 56\u001b[0m \u001b[43mcerebro\u001b[49m\u001b[38;5;241;43m.\u001b[39;49m\u001b[43mrun\u001b[49m\u001b[43m(\u001b[49m\u001b[43m)\u001b[49m\n\u001b[0;32m     57\u001b[0m \u001b[38;5;28mprint\u001b[39m(\u001b[38;5;124m'\u001b[39m\u001b[38;5;124m<FINISH> Brokerage account: $\u001b[39m\u001b[38;5;132;01m%.2f\u001b[39;00m\u001b[38;5;124m'\u001b[39m \u001b[38;5;241m%\u001b[39m cerebro\u001b[38;5;241m.\u001b[39mbroker\u001b[38;5;241m.\u001b[39mgetvalue())\n\u001b[0;32m     58\u001b[0m get_ipython()\u001b[38;5;241m.\u001b[39mrun_line_magic(\u001b[38;5;124m'\u001b[39m\u001b[38;5;124mmatplotlib\u001b[39m\u001b[38;5;124m'\u001b[39m, \u001b[38;5;124m'\u001b[39m\u001b[38;5;124minline\u001b[39m\u001b[38;5;124m'\u001b[39m)\n",
      "File \u001b[1;32mc:\\Users\\madmo\\AppData\\Local\\Programs\\Python\\Python39\\lib\\site-packages\\backtrader\\cerebro.py:1132\u001b[0m, in \u001b[0;36mCerebro.run\u001b[1;34m(self, **kwargs)\u001b[0m\n\u001b[0;32m   1128\u001b[0m \u001b[38;5;28;01mif\u001b[39;00m \u001b[38;5;129;01mnot\u001b[39;00m \u001b[38;5;28mself\u001b[39m\u001b[38;5;241m.\u001b[39m_dooptimize \u001b[38;5;129;01mor\u001b[39;00m \u001b[38;5;28mself\u001b[39m\u001b[38;5;241m.\u001b[39mp\u001b[38;5;241m.\u001b[39mmaxcpus \u001b[38;5;241m==\u001b[39m \u001b[38;5;241m1\u001b[39m:\n\u001b[0;32m   1129\u001b[0m     \u001b[38;5;66;03m# If no optimmization is wished ... or 1 core is to be used\u001b[39;00m\n\u001b[0;32m   1130\u001b[0m     \u001b[38;5;66;03m# let's skip process \"spawning\"\u001b[39;00m\n\u001b[0;32m   1131\u001b[0m     \u001b[38;5;28;01mfor\u001b[39;00m iterstrat \u001b[38;5;129;01min\u001b[39;00m iterstrats:\n\u001b[1;32m-> 1132\u001b[0m         runstrat \u001b[38;5;241m=\u001b[39m \u001b[38;5;28;43mself\u001b[39;49m\u001b[38;5;241;43m.\u001b[39;49m\u001b[43mrunstrategies\u001b[49m\u001b[43m(\u001b[49m\u001b[43miterstrat\u001b[49m\u001b[43m)\u001b[49m\n\u001b[0;32m   1133\u001b[0m         \u001b[38;5;28mself\u001b[39m\u001b[38;5;241m.\u001b[39mrunstrats\u001b[38;5;241m.\u001b[39mappend(runstrat)\n\u001b[0;32m   1134\u001b[0m         \u001b[38;5;28;01mif\u001b[39;00m \u001b[38;5;28mself\u001b[39m\u001b[38;5;241m.\u001b[39m_dooptimize:\n",
      "File \u001b[1;32mc:\\Users\\madmo\\AppData\\Local\\Programs\\Python\\Python39\\lib\\site-packages\\backtrader\\cerebro.py:1215\u001b[0m, in \u001b[0;36mCerebro.runstrategies\u001b[1;34m(self, iterstrat, predata)\u001b[0m\n\u001b[0;32m   1213\u001b[0m \u001b[38;5;28;01mif\u001b[39;00m \u001b[38;5;28mself\u001b[39m\u001b[38;5;241m.\u001b[39m_exactbars \u001b[38;5;241m<\u001b[39m \u001b[38;5;241m1\u001b[39m:  \u001b[38;5;66;03m# datas can be full length\u001b[39;00m\n\u001b[0;32m   1214\u001b[0m     data\u001b[38;5;241m.\u001b[39mextend(size\u001b[38;5;241m=\u001b[39m\u001b[38;5;28mself\u001b[39m\u001b[38;5;241m.\u001b[39mparams\u001b[38;5;241m.\u001b[39mlookahead)\n\u001b[1;32m-> 1215\u001b[0m \u001b[43mdata\u001b[49m\u001b[38;5;241;43m.\u001b[39;49m\u001b[43m_start\u001b[49m\u001b[43m(\u001b[49m\u001b[43m)\u001b[49m\n\u001b[0;32m   1216\u001b[0m \u001b[38;5;28;01mif\u001b[39;00m \u001b[38;5;28mself\u001b[39m\u001b[38;5;241m.\u001b[39m_dopreload:\n\u001b[0;32m   1217\u001b[0m     data\u001b[38;5;241m.\u001b[39mpreload()\n",
      "File \u001b[1;32mc:\\Users\\madmo\\AppData\\Local\\Programs\\Python\\Python39\\lib\\site-packages\\backtrader\\feed.py:203\u001b[0m, in \u001b[0;36mAbstractDataBase._start\u001b[1;34m(self)\u001b[0m\n\u001b[0;32m    202\u001b[0m \u001b[38;5;28;01mdef\u001b[39;00m\u001b[38;5;250m \u001b[39m\u001b[38;5;21m_start\u001b[39m(\u001b[38;5;28mself\u001b[39m):\n\u001b[1;32m--> 203\u001b[0m     \u001b[38;5;28;43mself\u001b[39;49m\u001b[38;5;241;43m.\u001b[39;49m\u001b[43mstart\u001b[49m\u001b[43m(\u001b[49m\u001b[43m)\u001b[49m\n\u001b[0;32m    205\u001b[0m     \u001b[38;5;28;01mif\u001b[39;00m \u001b[38;5;129;01mnot\u001b[39;00m \u001b[38;5;28mself\u001b[39m\u001b[38;5;241m.\u001b[39m_started:\n\u001b[0;32m    206\u001b[0m         \u001b[38;5;28mself\u001b[39m\u001b[38;5;241m.\u001b[39m_start_finish()\n",
      "File \u001b[1;32mc:\\Users\\madmo\\AppData\\Local\\Programs\\Python\\Python39\\lib\\site-packages\\backtrader\\feeds\\pandafeed.py:212\u001b[0m, in \u001b[0;36mPandasData.start\u001b[1;34m(self)\u001b[0m\n\u001b[0;32m    210\u001b[0m \u001b[38;5;66;03m# Transform names (valid for .ix) into indices (good for .iloc)\u001b[39;00m\n\u001b[0;32m    211\u001b[0m \u001b[38;5;28;01mif\u001b[39;00m \u001b[38;5;28mself\u001b[39m\u001b[38;5;241m.\u001b[39mp\u001b[38;5;241m.\u001b[39mnocase:\n\u001b[1;32m--> 212\u001b[0m     colnames \u001b[38;5;241m=\u001b[39m [x\u001b[38;5;241m.\u001b[39mlower() \u001b[38;5;28;01mfor\u001b[39;00m x \u001b[38;5;129;01min\u001b[39;00m \u001b[38;5;28mself\u001b[39m\u001b[38;5;241m.\u001b[39mp\u001b[38;5;241m.\u001b[39mdataname\u001b[38;5;241m.\u001b[39mcolumns\u001b[38;5;241m.\u001b[39mvalues]\n\u001b[0;32m    213\u001b[0m \u001b[38;5;28;01melse\u001b[39;00m:\n\u001b[0;32m    214\u001b[0m     colnames \u001b[38;5;241m=\u001b[39m [x \u001b[38;5;28;01mfor\u001b[39;00m x \u001b[38;5;129;01min\u001b[39;00m \u001b[38;5;28mself\u001b[39m\u001b[38;5;241m.\u001b[39mp\u001b[38;5;241m.\u001b[39mdataname\u001b[38;5;241m.\u001b[39mcolumns\u001b[38;5;241m.\u001b[39mvalues]\n",
      "File \u001b[1;32mc:\\Users\\madmo\\AppData\\Local\\Programs\\Python\\Python39\\lib\\site-packages\\backtrader\\feeds\\pandafeed.py:212\u001b[0m, in \u001b[0;36m<listcomp>\u001b[1;34m(.0)\u001b[0m\n\u001b[0;32m    210\u001b[0m \u001b[38;5;66;03m# Transform names (valid for .ix) into indices (good for .iloc)\u001b[39;00m\n\u001b[0;32m    211\u001b[0m \u001b[38;5;28;01mif\u001b[39;00m \u001b[38;5;28mself\u001b[39m\u001b[38;5;241m.\u001b[39mp\u001b[38;5;241m.\u001b[39mnocase:\n\u001b[1;32m--> 212\u001b[0m     colnames \u001b[38;5;241m=\u001b[39m [\u001b[43mx\u001b[49m\u001b[38;5;241;43m.\u001b[39;49m\u001b[43mlower\u001b[49m() \u001b[38;5;28;01mfor\u001b[39;00m x \u001b[38;5;129;01min\u001b[39;00m \u001b[38;5;28mself\u001b[39m\u001b[38;5;241m.\u001b[39mp\u001b[38;5;241m.\u001b[39mdataname\u001b[38;5;241m.\u001b[39mcolumns\u001b[38;5;241m.\u001b[39mvalues]\n\u001b[0;32m    213\u001b[0m \u001b[38;5;28;01melse\u001b[39;00m:\n\u001b[0;32m    214\u001b[0m     colnames \u001b[38;5;241m=\u001b[39m [x \u001b[38;5;28;01mfor\u001b[39;00m x \u001b[38;5;129;01min\u001b[39;00m \u001b[38;5;28mself\u001b[39m\u001b[38;5;241m.\u001b[39mp\u001b[38;5;241m.\u001b[39mdataname\u001b[38;5;241m.\u001b[39mcolumns\u001b[38;5;241m.\u001b[39mvalues]\n",
      "\u001b[1;31mAttributeError\u001b[0m: 'tuple' object has no attribute 'lower'"
     ]
    }
   ],
   "source": [
    "import backtrader as bt\n",
    "import yfinance as yf\n",
    "\n",
    "class MAstrategy(bt.Strategy):\n",
    "\t# when initializing the instance, create a 100-day MA indicator using the closing price\n",
    "\tdef __init__(self):\n",
    "\t\tself.ma = bt.indicators.SimpleMovingAverage(self.data.close, period=100)\n",
    "\t\tself.order = None\n",
    " \n",
    "\tdef next(self):\n",
    "\t\tif self.order:\n",
    "\t\t\treturn\n",
    "\t\tif not self.position: # check if you already have a position in the market\n",
    "\t\t\tif (self.data.close[0] > self.ma[0]) & (self.data.close[-1] < self.ma[-1]):\n",
    "\t\t\t\tself.log('Buy Create, %.2f' % self.data.close[0])\n",
    "\t\t\t\tself.order = self.buy(size=10) # buy when closing price today crosses above MA.\n",
    "\t\t\tif (self.data.close[0] < self.ma[0]) & (self.data.close[-1] > self.ma[-1]):\n",
    "\t\t\t\tself.log('Sell Create, %.2f' % self.data.close[0])\n",
    "\t\t\t\tself.order = self.sell(size=10)  # sell when closing price today below MA\n",
    "\t\telse:\n",
    "\t\t# This means you are in a position, and hence you need to define exit strategy here.\n",
    "\t\t\tif len(self) >= (self.bar_executed + 4):\n",
    "\t\t\t\tself.log('Position Closed, %.2f' % self.data.close[0])\n",
    "\t\t\t\tself.order = self.close()\n",
    " \n",
    "\t# outputting information\n",
    "\tdef log(self, txt):\n",
    "\t\tdt=self.datas[0].datetime.date(0)\n",
    "\t\tprint('%s, %s' % (dt.isoformat(), txt))\n",
    "   \n",
    "\tdef notify_order(self, order):\n",
    "\t\tif order.status == order.Completed:\n",
    "\t\t\tif order.isbuy():\n",
    "\t\t\t\tself.log(\n",
    "\t\t\t\t\"Executed BUY (Price: %.2f, Value: %.2f, Commission %.2f)\" %\n",
    "\t\t\t\t(order.executed.price, order.executed.value, order.executed.comm))\n",
    "\t\t\telse:\n",
    "\t\t\t\tself.log(\n",
    "\t\t\t\t\"Executed SELL (Price: %.2f, Value: %.2f, Commission %.2f)\" %\n",
    "\t\t\t\t(order.executed.price, order.executed.value, order.executed.comm))\n",
    "\t\t\tself.bar_executed = len(self)\n",
    "\t\telif order.status in [order.Canceled, order.Margin, order.Rejected]:\n",
    "\t\t\tself.log(\"Order was canceled/margin/rejected\")\n",
    "\t\tself.order = None\n",
    "\n",
    "if __name__ == '__main__':\n",
    "\t# Create a cerebro instance, add our strategy, some starting cash at broker and a 0.1% broker commission\n",
    "\tcerebro = bt.Cerebro()\n",
    "\tcerebro.addstrategy(MAstrategy)\n",
    "\tcerebro.broker.setcash(10000)\n",
    "\tcerebro.broker.setcommission(commission=0.001)\n",
    "\tdata = bt.feeds.PandasData(dataname=yf.download(\"AAPL\", \"2016-6-25\", \"2021-6-25\", multi_level_index=False))\n",
    "\tcerebro.adddata(data)\n",
    "   \n",
    "\tprint('<START> Brokerage account: $%.2f' % cerebro.broker.getvalue())\n",
    "\tcerebro.run()\n",
    "\tprint('<FINISH> Brokerage account: $%.2f' % cerebro.broker.getvalue())\n",
    "\t%matplotlib inline\n",
    "\t# Plot the strategy\n",
    "\tcerebro.plot(style='candlestick',loc='grey', grid=False) #You can leave inside the paranthesis empty"
   ]
  }
 ],
 "metadata": {
  "kernelspec": {
   "display_name": "Python 3",
   "language": "python",
   "name": "python3"
  },
  "language_info": {
   "codemirror_mode": {
    "name": "ipython",
    "version": 3
   },
   "file_extension": ".py",
   "mimetype": "text/x-python",
   "name": "python",
   "nbconvert_exporter": "python",
   "pygments_lexer": "ipython3",
   "version": "3.9.12"
  }
 },
 "nbformat": 4,
 "nbformat_minor": 5
}
